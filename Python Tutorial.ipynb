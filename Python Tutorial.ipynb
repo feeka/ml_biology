{
 "cells": [
  {
   "cell_type": "markdown",
   "id": "incorrect-resolution",
   "metadata": {},
   "source": [
    "# Python\n",
    "\n",
    "This is a little python demo notebook. Outline for the notebook:\n",
    "\n",
    "* print statement - how do we interact with the terminal\n",
    "* data types - numerical, logical and strings\n",
    "* variables - how do we assign and operate on variables\n",
    "* control flow - conditional statements and loops\n",
    "* libraries - how do we import and reuse the libraries\n",
    "* little program example"
   ]
  },
  {
   "cell_type": "markdown",
   "id": "super-tissue",
   "metadata": {},
   "source": [
    "## Interaction with the terminal\n",
    "Jupyter Notebook is one way of creating a medium/an environment between a person and computer - the other is terminal. We concentrate on Jupyter Notebook. In Jupyter Notebook you can switch between code(python code) and markdowns(notes for your code). \n",
    "All you have to know is how to speak the Python language."
   ]
  },
  {
   "cell_type": "code",
   "execution_count": 1,
   "id": "sticky-publication",
   "metadata": {},
   "outputs": [
    {
     "name": "stdout",
     "output_type": "stream",
     "text": [
      "Hello\n"
     ]
    }
   ],
   "source": [
    "print(\"Hello\")"
   ]
  },
  {
   "cell_type": "markdown",
   "id": "endless-recruitment",
   "metadata": {},
   "source": [
    "In Jupyter Notebook we can ommit the print statement - it understands us and implicitly executes print statement on a given statement. \n",
    "\n",
    "_NOTE 1! By ommitting we also should take into consideration the fact that only the last statement executes!_"
   ]
  },
  {
   "cell_type": "code",
   "execution_count": 2,
   "id": "explicit-cooking",
   "metadata": {},
   "outputs": [
    {
     "data": {
      "text/plain": [
       "'Hello'"
      ]
     },
     "execution_count": 2,
     "metadata": {},
     "output_type": "execute_result"
    }
   ],
   "source": [
    "\"Hello\""
   ]
  },
  {
   "cell_type": "markdown",
   "id": "coordinate-pledge",
   "metadata": {},
   "source": [
    "What did you notice above? We put 2 `\"` marks. Why? Well, data types.\n",
    "\n",
    "In Python language we have to differentiate the data types. Simplest data types are numerical, logical and strings(strings are the words in our language). Let us switch to code and demonstrate the data types. New method:\n",
    "* `type(value)` - type function takes a value and returns the name of data type\n",
    "* `primitive data types` - __Strings__, __Integers__, __Floating Points__ and __Booleans__"
   ]
  },
  {
   "cell_type": "code",
   "execution_count": 13,
   "id": "supported-president",
   "metadata": {},
   "outputs": [
    {
     "name": "stdout",
     "output_type": "stream",
     "text": [
      "Hello is of type  <class 'str'>\n",
      "12 is of type <class 'int'>\n",
      "12.15 is of type <class 'float'>\n",
      "True is of type <class 'bool'>\n"
     ]
    }
   ],
   "source": [
    "print(\"Hello\", \"is of type \", type(\"Hello\"))\n",
    "print(12, \"is of type\", type(12))\n",
    "print(12.15, \"is of type\", type(12.5))\n",
    "print(True, \"is of type\", type(True))"
   ]
  },
  {
   "cell_type": "markdown",
   "id": "higher-transition",
   "metadata": {},
   "source": [
    "Q1: Why did we put print statements in front of each statement?\n",
    "Hint: Answer is in note 1."
   ]
  },
  {
   "cell_type": "markdown",
   "id": "northern-polls",
   "metadata": {},
   "source": [
    "## Data Types and Variables\n",
    "Let us take a look at some arithmetic operations and operations on strings. Definitions:\n",
    "* `# This is a comment in python` - the `#` sign represents a comment in python \n",
    "* `a=5` - assignment operation: assign value `5` to variable `a` (equivalent to mathematical `=`)\n",
    "\n",
    "We are checking the type of resulting value from the statements below."
   ]
  },
  {
   "cell_type": "code",
   "execution_count": 17,
   "id": "muslim-vacuum",
   "metadata": {},
   "outputs": [],
   "source": [
    "#int\n",
    "a1 = 5\n",
    "a2 = 10\n",
    "\n",
    "#float\n",
    "b1 = 5.5\n",
    "b2 = 1.3\n",
    "\n",
    "#bool\n",
    "c1 = True\n",
    "c2 = False\n",
    "\n",
    "#str\n",
    "d1 = \"Hello\"\n",
    "d2 = \"World\""
   ]
  },
  {
   "cell_type": "code",
   "execution_count": 32,
   "id": "loose-grave",
   "metadata": {},
   "outputs": [
    {
     "data": {
      "text/plain": [
       "50"
      ]
     },
     "execution_count": 32,
     "metadata": {},
     "output_type": "execute_result"
    }
   ],
   "source": [
    "#let us check the types\n",
    "a3=a1*a2 #we can peform all arithmetic operations\n",
    "a3"
   ]
  },
  {
   "cell_type": "code",
   "execution_count": 33,
   "id": "pediatric-pilot",
   "metadata": {},
   "outputs": [
    {
     "data": {
      "text/plain": [
       "7.15"
      ]
     },
     "execution_count": 33,
     "metadata": {},
     "output_type": "execute_result"
    }
   ],
   "source": [
    "b3=b1*b2\n",
    "b3"
   ]
  },
  {
   "cell_type": "code",
   "execution_count": 35,
   "id": "alpha-regular",
   "metadata": {},
   "outputs": [
    {
     "data": {
      "text/plain": [
       "False"
      ]
     },
     "execution_count": 35,
     "metadata": {},
     "output_type": "execute_result"
    }
   ],
   "source": [
    "c3 = c1 and c2\n",
    "c3"
   ]
  },
  {
   "cell_type": "code",
   "execution_count": 36,
   "id": "buried-herald",
   "metadata": {},
   "outputs": [
    {
     "data": {
      "text/plain": [
       "'HelloWorld'"
      ]
     },
     "execution_count": 36,
     "metadata": {},
     "output_type": "execute_result"
    }
   ],
   "source": [
    "d3 = d1+d2 #chain the values\n",
    "d3"
   ]
  },
  {
   "cell_type": "markdown",
   "id": "alien-drunk",
   "metadata": {},
   "source": [
    "Q2: What are the types of the values produced above? List them.\n",
    "Try it at home: What if we add `int` type to `float` type or `str` with `float`/`int`/`bool`? What is the type of resulting combination?"
   ]
  },
  {
   "cell_type": "markdown",
   "id": "bright-hammer",
   "metadata": {},
   "source": [
    "## Control Flow"
   ]
  },
  {
   "cell_type": "markdown",
   "id": "cathedral-message",
   "metadata": {},
   "source": [
    "* __input:__ Get data from the “outside world”. This might be reading data from a biological dataset file.\n",
    "* __output:__ Display the results of the program as a text or machine learning model.\n",
    "* __sequential execution:__ Perform statements one after another in the order they are encountered in the script as we did before.\n",
    "* __conditional execution:__ Check for certain conditions and then execute or skip a sequence of statements.\n",
    "* __repeated execution:__ Perform some set of statements repeatedly, until condition is met or 10 times (execute statement until value of steps reaches 10).\n",
    "* __reuse:__ Write a set of instructions once and give them a name and then reuse those instructions as needed throughout your program. In our course they are libraries."
   ]
  },
  {
   "cell_type": "markdown",
   "id": "abroad-canyon",
   "metadata": {},
   "source": [
    "It is the best to look at each block of statements using some examples. Defintions:\n",
    "* `input(\"Enter a value\")` - Jupyter Notebook shows `Enter a value` and waits for the value. Value is of type string.\n",
    "* `str(1)` - converts `1` to string, can be used interchangebly between the types (e.g. `int(\"12\")`)"
   ]
  },
  {
   "cell_type": "code",
   "execution_count": 39,
   "id": "extreme-prairie",
   "metadata": {},
   "outputs": [],
   "source": [
    "# Task 1. \n",
    "## User inputs a value in Celsius. Program converts given value to Kelvin.\n",
    "## The result should be converted to str value."
   ]
  },
  {
   "cell_type": "code",
   "execution_count": null,
   "id": "tracked-advice",
   "metadata": {},
   "outputs": [],
   "source": [
    "# takes input from the screen converts it to int and stores in celsius_input \n",
    "celsius_input = int(input(\"Enter Temperature in Celsius: \"))\n",
    "# assign kelvin to following value\n",
    "kelvin_output = celsius_input + 273.15\n",
    "# convert kelvin to String\n",
    "string_kelvin = str(kelvin_output)\n",
    "# print the string kelvin\n",
    "print(string_kelvin)"
   ]
  },
  {
   "cell_type": "code",
   "execution_count": null,
   "id": "expressed-record",
   "metadata": {},
   "outputs": [],
   "source": []
  }
 ],
 "metadata": {
  "kernelspec": {
   "display_name": "Python 3",
   "language": "python",
   "name": "python3"
  },
  "language_info": {
   "codemirror_mode": {
    "name": "ipython",
    "version": 3
   },
   "file_extension": ".py",
   "mimetype": "text/x-python",
   "name": "python",
   "nbconvert_exporter": "python",
   "pygments_lexer": "ipython3",
   "version": "3.6.5"
  }
 },
 "nbformat": 4,
 "nbformat_minor": 5
}
