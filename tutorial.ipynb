{
 "cells": [
  {
   "cell_type": "markdown",
   "metadata": {},
   "source": [
    "# Python\n",
    "\n",
    "This is a little python demo notebook. Outline for the notebook:\n",
    "\n",
    "* print statement - how do we interact with the terminal\n",
    "* data types - numerical, logical and strings\n",
    "* variables - how do we assign and operate on variables\n",
    "* control flow - conditional statements and loops\n",
    "* libraries - how do we import and reuse the libraries\n",
    "* little program examples"
   ]
  },
  {
   "cell_type": "markdown",
   "metadata": {},
   "source": [
    "## Interaction with the terminal\n",
    "Jupyter Notebook is one way of creating a medium/an environment between a person and computer - the other is terminal. We concentrate on Jupyter Notebook. In Jupyter Notebook you can switch between code(python code) and markdowns(notes for your code). \n",
    "All you have to know is how to speak the Python language."
   ]
  },
  {
   "cell_type": "code",
   "execution_count": 3,
   "metadata": {},
   "outputs": [
    {
     "name": "stdout",
     "output_type": "stream",
     "text": [
      "Hello\n"
     ]
    }
   ],
   "source": [
    "print(\"Hello\")"
   ]
  },
  {
   "cell_type": "markdown",
   "metadata": {},
   "source": [
    "In Jupyter Notebook we can ommit the print statement - it understands us and implicitly executes print statement on a given statement. \n",
    "\n",
    "_NOTE 1! By ommitting we also should take into consideration the fact that only the last statement executes!_"
   ]
  },
  {
   "cell_type": "code",
   "execution_count": 4,
   "metadata": {},
   "outputs": [
    {
     "data": {
      "text/plain": [
       "'Hello'"
      ]
     },
     "execution_count": 4,
     "metadata": {},
     "output_type": "execute_result"
    }
   ],
   "source": [
    "\"Hello\""
   ]
  },
  {
   "cell_type": "markdown",
   "metadata": {},
   "source": [
    "What did you notice above? We put 2 `\"` marks. Why? Well, data types.\n",
    "\n",
    "In Python language we have to differentiate the data types. Simplest data types are numerical, logical and strings(strings are the words in our language). Let us switch to code and demonstrate the data types. New method:\n",
    "* `type(value)` - type function takes a value and returns the name of data type\n",
    "* `primitive data types` - __Strings__, __Integers__, __Floating Points__ and __Booleans__"
   ]
  },
  {
   "cell_type": "code",
   "execution_count": 5,
   "metadata": {},
   "outputs": [
    {
     "name": "stdout",
     "output_type": "stream",
     "text": [
      "Hello is of type  <class 'str'>\n",
      "12 is of type <class 'int'>\n",
      "12.15 is of type <class 'float'>\n",
      "True is of type <class 'bool'>\n"
     ]
    }
   ],
   "source": [
    "print(\"Hello\", \"is of type \", type(\"Hello\"))\n",
    "print(12, \"is of type\", type(12))\n",
    "print(12.15, \"is of type\", type(12.5))\n",
    "print(True, \"is of type\", type(True))"
   ]
  },
  {
   "cell_type": "markdown",
   "metadata": {},
   "source": [
    "Q1: Why did we put print statements in front of each statement?\n",
    "Hint: Answer is in note 1."
   ]
  },
  {
   "cell_type": "markdown",
   "metadata": {},
   "source": [
    "## Data Types and Variables\n",
    "Let us take a look at some arithmetic operations and operations on strings. Definitions:\n",
    "* `# This is a comment in python` - the `#` sign represents a comment in python \n",
    "* `a=5` - assignment operation: assign value `5` to variable `a` (equivalent to mathematical `=`)\n",
    "\n",
    "We are checking the type of resulting value from the statements below."
   ]
  },
  {
   "cell_type": "code",
   "execution_count": 6,
   "metadata": {},
   "outputs": [],
   "source": [
    "#int\n",
    "a1 = 5\n",
    "a2 = 10\n",
    "\n",
    "#float\n",
    "b1 = 5.5\n",
    "b2 = 1.3\n",
    "\n",
    "#bool\n",
    "c1 = True\n",
    "c2 = False\n",
    "\n",
    "#str\n",
    "d1 = \"Hello\"\n",
    "d2 = \"World\""
   ]
  },
  {
   "cell_type": "code",
   "execution_count": 7,
   "metadata": {},
   "outputs": [
    {
     "data": {
      "text/plain": [
       "50"
      ]
     },
     "execution_count": 7,
     "metadata": {},
     "output_type": "execute_result"
    }
   ],
   "source": [
    "#let us check the types\n",
    "a3=a1*a2 #we can peform all arithmetic operations\n",
    "a3"
   ]
  },
  {
   "cell_type": "code",
   "execution_count": 8,
   "metadata": {},
   "outputs": [
    {
     "data": {
      "text/plain": [
       "7.15"
      ]
     },
     "execution_count": 8,
     "metadata": {},
     "output_type": "execute_result"
    }
   ],
   "source": [
    "b3=b1*b2\n",
    "b3"
   ]
  },
  {
   "cell_type": "code",
   "execution_count": 9,
   "metadata": {},
   "outputs": [
    {
     "data": {
      "text/plain": [
       "False"
      ]
     },
     "execution_count": 9,
     "metadata": {},
     "output_type": "execute_result"
    }
   ],
   "source": [
    "c3 = c1 and c2\n",
    "c3"
   ]
  },
  {
   "cell_type": "code",
   "execution_count": 10,
   "metadata": {},
   "outputs": [
    {
     "data": {
      "text/plain": [
       "'HelloWorld'"
      ]
     },
     "execution_count": 10,
     "metadata": {},
     "output_type": "execute_result"
    }
   ],
   "source": [
    "d3 = d1+d2 #chain the values\n",
    "d3"
   ]
  },
  {
   "cell_type": "markdown",
   "metadata": {},
   "source": [
    "Q2: What are the types of the values produced above? List them.\n",
    "\n",
    "`Try it at home: What if we add `int` type to `float` type or `str` with `float`/`int`/`bool`? What is the type of resulting combination?`"
   ]
  },
  {
   "cell_type": "markdown",
   "metadata": {},
   "source": [
    "## Control Flow"
   ]
  },
  {
   "cell_type": "markdown",
   "metadata": {},
   "source": [
    "* __input:__ Get data from the “outside world”. This might be reading data from a biological dataset file.\n",
    "* __output:__ Display the results of the program as a text or machine learning model.\n",
    "* __sequential execution:__ Perform statements one after another in the order they are encountered in the script as we did before.\n",
    "* __conditional execution:__ Check for certain conditions and then execute or skip a sequence of statements.\n",
    "* __repeated execution:__ Perform some set of statements repeatedly, until condition is met or 10 times (execute statement until value of steps reaches 10).\n",
    "* __reuse:__ Write a set of instructions once and give them a name and then reuse those instructions as needed throughout your program. In our course they are libraries.\n",
    "\n",
    "> _Python for Informatics, Exploring Information, Charles Severance_\n",
    "\n"
   ]
  },
  {
   "cell_type": "markdown",
   "metadata": {},
   "source": [
    "It is the best to look at each block of statements using some examples. Defintions:\n",
    "* `input(\"Enter a value\")` - Jupyter Notebook shows `Enter a value` and waits for the value. Value is of type string.\n",
    "* `str(1)` - converts `1` to string, can be used interchangebly between the types (e.g. `int(\"12\")`)"
   ]
  },
  {
   "cell_type": "markdown",
   "metadata": {},
   "source": [
    "### Sequential execution\n",
    "__Task 1. Sequential Celsius__ \n",
    "* User inputs a value in Celsius.Program converts given value to Kelvin.\n",
    "* The result should be converted to str value."
   ]
  },
  {
   "cell_type": "markdown",
   "metadata": {},
   "source": []
  },
  {
   "cell_type": "code",
   "execution_count": 14,
   "metadata": {},
   "outputs": [
    {
     "name": "stdout",
     "output_type": "stream",
     "text": [
      "Enter Temperature in Celsius: 25\n",
      "298.15 Kelvin\n"
     ]
    }
   ],
   "source": [
    "# takes input from the screen converts it to int and stores in celsius_input \n",
    "celsius_input = int(input(\"Enter Temperature in Celsius: \"))\n",
    "# assign kelvin to following value\n",
    "kelvin_output = celsius_input + 273.15\n",
    "# convert kelvin to String\n",
    "string_kelvin = str(kelvin_output)\n",
    "# print the string kelvin\n",
    "print(string_kelvin,\"Kelvin\")"
   ]
  },
  {
   "cell_type": "markdown",
   "metadata": {},
   "source": [
    "### Conditional execution\n",
    "__Task 2. Conditional driver's license__\n",
    "* User inputs name and age of user. \n",
    "* Program greets the user and decides if the user is old enough to get license.\n",
    "* The result should also say how many years left to take test if threshold age is not met!"
   ]
  },
  {
   "cell_type": "code",
   "execution_count": 24,
   "metadata": {},
   "outputs": [
    {
     "name": "stdout",
     "output_type": "stream",
     "text": [
      "Enter your name: Fikrat\n",
      "Enter your age: 26\n",
      "Welcome Fikrat\n",
      "\n",
      "Good news Fikrat! You are qualified to take the test!\n"
     ]
    }
   ],
   "source": [
    "# Inputs\n",
    "name = input(\"Enter your name: \")\n",
    "age = int(input(\"Enter your age: \"))\n",
    "threshold = 19\n",
    "\n",
    "# Friendly greetings\n",
    "print(\"Welcome\",name+\"\\n\")\n",
    "\n",
    "# Conditional statement: age<threshold is a bool value, returns True or False\n",
    "if age<threshold:\n",
    "    # Check in how many years the user can start driving\n",
    "    years_left = threshold - age\n",
    "    print(\"Ah sorry\",name,\"try once again in\",years_left,\"years!\")\n",
    "else:\n",
    "    print(\"Good news\",name+\"! You are qualified to take the test!\")"
   ]
  },
  {
   "cell_type": "code",
   "execution_count": 1,
   "metadata": {},
   "outputs": [],
   "source": [
    "#TODO: Loops, lists and libraries"
   ]
  },
  {
   "cell_type": "markdown",
   "metadata": {},
   "source": [
    "__Task 3. Conditional % to score__\n",
    "* User inputs _name_ and _grade_ in percent. \n",
    "* Program converts the grade to german scale(1-5).\n",
    "* Output also says if user failed or passed."
   ]
  },
  {
   "cell_type": "code",
   "execution_count": 22,
   "metadata": {},
   "outputs": [
    {
     "name": "stdout",
     "output_type": "stream",
     "text": [
      "Enter your name:Johny\n",
      "Enter your grade:74\n",
      "Your grade is 2.7 satisfactory\n"
     ]
    }
   ],
   "source": [
    "# Input\n",
    "name = input(\"Enter your name:\")\n",
    "grade_percent = int(input(\"Enter your grade:\"))\n",
    "threshold = 45\n",
    "\n",
    "grade_german = 0\n",
    "message = \"\"\n",
    "\n",
    "#if condition1 else if condition2 else...\n",
    "if grade_percent<threshold:\n",
    "    grade_german = 5.0\n",
    "    message = \"Failed\"\n",
    "elif grade_percent>=45 and grade_percent<55:\n",
    "    grade_german = 3.7\n",
    "    message = \"sufficient\"\n",
    "elif grade_percent>=55 and grade_percent<65:\n",
    "    grade_german = 3.3\n",
    "    message = \"satisfactory\"\n",
    "elif grade_percent>=65 and grade_percent<70:\n",
    "    grade_german = 3.0\n",
    "    message = \"satisfactory\"\n",
    "elif grade_percent>=70 and grade_percent<75:\n",
    "    grade_german = 2.7\n",
    "    message = \"satisfactory\"\n",
    "elif grade_percent>=75 and grade_percent<80:\n",
    "    grade_german = 2.3\n",
    "    message = \"good\"\n",
    "elif grade_percent>=80 and grade_percent<85:\n",
    "    grade_german = 2.0\n",
    "    message = \"good\"\n",
    "elif grade_percent>=85 and grade_percent<90:\n",
    "    grade_german = 1.7\n",
    "    message = \"good\"\n",
    "elif grade_percent>=90 and grade_percent<95:\n",
    "    grade_german = 1.3\n",
    "    message = \"very good\"\n",
    "else:\n",
    "    grade_german = 1.0\n",
    "    message = \"very good\"\n",
    "    \n",
    "print(\"Your grade is\",grade_german,message)"
   ]
  },
  {
   "attachments": {},
   "cell_type": "markdown",
   "metadata": {},
   "source": [
    "To conclude:\n",
    "* `if` statements - are used for conditional statements\n",
    "    * there must be a condition after if (`bool` type value)\n",
    "    * `elif` - translates into else if - normally used when more than 2 cases\n",
    "    * `and` - first condition `and` second condition both must be `True`\n",
    "    * `or` - one of two conditiond must be true or both\n",
    "    * `else` - everything else\n",
    "* conversion between the values is necessary but be careful!\n",
    "    * if user enters `str` value for age\n",
    "    * we are forcing it to convert to `int`\n",
    "    * `ValueError: invalid literal for int() with base 10: 'd'`\n",
    "    * in human language we stumble upon an error\n",
    "    \n",
    "__Try it at home: Username and password__\n",
    "* User enters username and password. Let username be your First Name and password your Last Name\n",
    "* If user enters correct values => print connected. Else could not connect.\n",
    "\n",
    "NOTE: We do not handle usernames and passwords that way in real world. Far sophisticated algorithms for encryption are used. The example is designed only for exercise purposes."
   ]
  },
  {
   "cell_type": "markdown",
   "metadata": {},
   "source": [
    "### Repeated execution and Lists\n",
    "Now suppose we want to ask user to input multiple localization sites and print them, e.g. 3? Well one way is straight forward:\n",
    "* ` \\n ` - means new line, can write anywhere(just make sure it is written exactly like indicated)"
   ]
  },
  {
   "cell_type": "code",
   "execution_count": 30,
   "metadata": {},
   "outputs": [
    {
     "name": "stdout",
     "output_type": "stream",
     "text": [
      "Enter site: cytoplasm\n",
      "Enter site: inner membrane\n",
      "Enter site: perisplasm\n",
      "Localization sites are: \n",
      "------------------\n",
      "cytoplasm\n",
      "inner membrane\n",
      "perisplasm\n"
     ]
    }
   ],
   "source": [
    "name1 = input(\"Enter site: \")\n",
    "name2 = input(\"Enter site: \")\n",
    "name3 = input(\"Enter site: \")\n",
    "\n",
    "print(\"\\nLocalization sites are: \"+\"\\n------------------\\n\"+name1+'\\n'+name2 + '\\n'+name3)"
   ]
  },
  {
   "cell_type": "markdown",
   "metadata": {},
   "source": [
    "What if we have complicated scenario where user needs to specify the quantity of sites? We have a data type called __`list`__ and a statement called __`for`__ loop."
   ]
  },
  {
   "cell_type": "code",
   "execution_count": 40,
   "metadata": {},
   "outputs": [
    {
     "name": "stdout",
     "output_type": "stream",
     "text": [
      "The index of e: 1\n",
      "The index of i: 2\n"
     ]
    }
   ],
   "source": [
    "# vowels list\n",
    "vowels = ['a', 'e', 'i', 'o', 'i', 'u']\n",
    "\n",
    "# index of 'e' in vowels\n",
    "index = vowels.index('e')\n",
    "print('The index of e:', index)\n",
    "\n",
    "# element 'i' is searched\n",
    "# index of the first 'i' is returned\n",
    "index = vowels.index('i')\n",
    "\n",
    "print('The index of i:', index)"
   ]
  },
  {
   "cell_type": "code",
   "execution_count": 41,
   "metadata": {},
   "outputs": [],
   "source": [
    "# remove first occurence of i\n",
    "vowels.remove(\"i\")"
   ]
  },
  {
   "cell_type": "code",
   "execution_count": 42,
   "metadata": {},
   "outputs": [
    {
     "name": "stdout",
     "output_type": "stream",
     "text": [
      "Updated vowels: ['a', 'e', 'o', 'i', 'u']\n",
      "Length of vowels: 5\n"
     ]
    }
   ],
   "source": [
    "print(\"Updated vowels:\",vowels)\n",
    "print(\"Length of vowels:\",len(vowels))"
   ]
  },
  {
   "cell_type": "markdown",
   "metadata": {},
   "source": [
    "List is a non-primitive data type and has methods like we used before in the code.\n",
    "\n",
    "`Try it at home: Find some other methods for lists and try to use them, e.g. vowels.count(\"e\").` Here is a useful [link](https://www.programiz.com/python-programming/methods/list/index)."
   ]
  },
  {
   "cell_type": "markdown",
   "metadata": {},
   "source": [
    "__Task 4. More than 3 Localization Sites.__\n",
    "* User inputs _quantity_ of sites and names of sites one by one.\n",
    "* Program prints them in a special format.\n",
    "\n",
    "`Localization Sites:\n",
    "    site1\n",
    "    site2\n",
    "    site3\n",
    "`"
   ]
  },
  {
   "cell_type": "code",
   "execution_count": 51,
   "metadata": {},
   "outputs": [
    {
     "name": "stdout",
     "output_type": "stream",
     "text": [
      "Enter number of sites: 3\n",
      "Enter site: cp\n",
      "Enter site: mb\n",
      "Enter site: imL\n",
      "\n",
      "Localization Sites:\n",
      "--------------------\n",
      "    cp\n",
      "    mb\n",
      "    imL\n"
     ]
    }
   ],
   "source": [
    "number_of_sites = int(input(\"Enter number of sites: \"))\n",
    "\n",
    "# create empty list\n",
    "sites = []\n",
    "\n",
    "# loop from 0 to number_of_sites\n",
    "for i in range(0,number_of_sites):\n",
    "    site = input(\"Enter site: \")\n",
    "    sites.append(site)\n",
    "\n",
    "print(\"\\nLocalization Sites:\")\n",
    "\n",
    "print(\"--------------------\")\n",
    "\n",
    "# loop over sites\n",
    "for site in sites:\n",
    "    print(\"    \"+site)"
   ]
  },
  {
   "cell_type": "markdown",
   "metadata": {},
   "source": [
    "Definition and intuition:\n",
    "* `for i in range(0,10):`\n",
    "    * assign `i` to 0\n",
    "    * increment by 1 (`i=i+1`)\n",
    "    * until `i` reaches 10 (`i<10`)\n",
    "    * do something after `:`\n",
    "* `for site in sites:`\n",
    "    * take values from `sites` one-by-one\n",
    "    * assign them to `site`\n"
   ]
  },
  {
   "cell_type": "markdown",
   "metadata": {},
   "source": [
    "### Reuse - ML libraries introduction\n",
    "\n",
    "In machine learning the data is oftentimes given as a csv, txt or other type of file. Experts oftentimes tackle these problems by creating the libraries, that contain modules and we - programmers are using/importing those libraries. So how do we reuse the modules?\n",
    "\n",
    "First we install the module using pip/pip3 system - python's library installer. Afterwards, we simply import those libraries. Let us look at the examples."
   ]
  },
  {
   "cell_type": "code",
   "execution_count": 72,
   "metadata": {},
   "outputs": [],
   "source": [
    "import numpy as np\n",
    "from pandas import DataFrame\n",
    "import pandas as pd"
   ]
  },
  {
   "cell_type": "code",
   "execution_count": 68,
   "metadata": {},
   "outputs": [
    {
     "data": {
      "text/html": [
       "<div>\n",
       "<style scoped>\n",
       "    .dataframe tbody tr th:only-of-type {\n",
       "        vertical-align: middle;\n",
       "    }\n",
       "\n",
       "    .dataframe tbody tr th {\n",
       "        vertical-align: top;\n",
       "    }\n",
       "\n",
       "    .dataframe thead th {\n",
       "        text-align: right;\n",
       "    }\n",
       "</style>\n",
       "<table border=\"1\" class=\"dataframe\">\n",
       "  <thead>\n",
       "    <tr style=\"text-align: right;\">\n",
       "      <th></th>\n",
       "      <th>Sites</th>\n",
       "    </tr>\n",
       "  </thead>\n",
       "  <tbody>\n",
       "    <tr>\n",
       "      <th>0</th>\n",
       "      <td>cp</td>\n",
       "    </tr>\n",
       "    <tr>\n",
       "      <th>1</th>\n",
       "      <td>mb</td>\n",
       "    </tr>\n",
       "    <tr>\n",
       "      <th>2</th>\n",
       "      <td>imL</td>\n",
       "    </tr>\n",
       "  </tbody>\n",
       "</table>\n",
       "</div>"
      ],
      "text/plain": [
       "  Sites\n",
       "0    cp\n",
       "1    mb\n",
       "2   imL"
      ]
     },
     "execution_count": 68,
     "metadata": {},
     "output_type": "execute_result"
    }
   ],
   "source": [
    "# create a DataFrame\n",
    "df = DataFrame(data=sites, columns=[\"Sites\"])\n",
    "df"
   ]
  },
  {
   "cell_type": "code",
   "execution_count": 69,
   "metadata": {},
   "outputs": [
    {
     "data": {
      "text/html": [
       "<div>\n",
       "<style scoped>\n",
       "    .dataframe tbody tr th:only-of-type {\n",
       "        vertical-align: middle;\n",
       "    }\n",
       "\n",
       "    .dataframe tbody tr th {\n",
       "        vertical-align: top;\n",
       "    }\n",
       "\n",
       "    .dataframe thead th {\n",
       "        text-align: right;\n",
       "    }\n",
       "</style>\n",
       "<table border=\"1\" class=\"dataframe\">\n",
       "  <thead>\n",
       "    <tr style=\"text-align: right;\">\n",
       "      <th></th>\n",
       "      <th>Name</th>\n",
       "      <th>Age</th>\n",
       "      <th>Enrolled as</th>\n",
       "    </tr>\n",
       "  </thead>\n",
       "  <tbody>\n",
       "    <tr>\n",
       "      <th>0</th>\n",
       "      <td>Johny</td>\n",
       "      <td>23</td>\n",
       "      <td>Master Student</td>\n",
       "    </tr>\n",
       "    <tr>\n",
       "      <th>1</th>\n",
       "      <td>Michael</td>\n",
       "      <td>24</td>\n",
       "      <td>Master Student</td>\n",
       "    </tr>\n",
       "    <tr>\n",
       "      <th>2</th>\n",
       "      <td>Fikrat</td>\n",
       "      <td>26</td>\n",
       "      <td>Phd Student</td>\n",
       "    </tr>\n",
       "  </tbody>\n",
       "</table>\n",
       "</div>"
      ],
      "text/plain": [
       "      Name  Age     Enrolled as\n",
       "0    Johny   23  Master Student\n",
       "1  Michael   24  Master Student\n",
       "2   Fikrat   26     Phd Student"
      ]
     },
     "execution_count": 69,
     "metadata": {},
     "output_type": "execute_result"
    }
   ],
   "source": [
    "# 2D list\n",
    "users = [[\"Johny\",23,\"Master Student\"],\n",
    "         [\"Michael\",24,\"Master Student\"],\n",
    "         [\"Fikrat\",26,\"Phd Student\"]]\n",
    "#column names for dataframe\n",
    "cols = [\"Name\",\"Age\",\"Enrolled as\"]\n",
    "# create dataframe from users\n",
    "df = DataFrame(data = users, columns=cols)\n",
    "df"
   ]
  },
  {
   "cell_type": "code",
   "execution_count": 70,
   "metadata": {},
   "outputs": [
    {
     "data": {
      "text/plain": [
       "pandas.core.frame.DataFrame"
      ]
     },
     "execution_count": 70,
     "metadata": {},
     "output_type": "execute_result"
    }
   ],
   "source": [
    "type(df)"
   ]
  },
  {
   "cell_type": "code",
   "execution_count": 77,
   "metadata": {},
   "outputs": [
    {
     "data": {
      "text/html": [
       "<div>\n",
       "<style scoped>\n",
       "    .dataframe tbody tr th:only-of-type {\n",
       "        vertical-align: middle;\n",
       "    }\n",
       "\n",
       "    .dataframe tbody tr th {\n",
       "        vertical-align: top;\n",
       "    }\n",
       "\n",
       "    .dataframe thead th {\n",
       "        text-align: right;\n",
       "    }\n",
       "</style>\n",
       "<table border=\"1\" class=\"dataframe\">\n",
       "  <thead>\n",
       "    <tr style=\"text-align: right;\">\n",
       "      <th></th>\n",
       "      <th>Sepal Length</th>\n",
       "      <th>Sepal Width</th>\n",
       "      <th>Petal Length</th>\n",
       "      <th>Petal Width</th>\n",
       "      <th>Class</th>\n",
       "    </tr>\n",
       "  </thead>\n",
       "  <tbody>\n",
       "    <tr>\n",
       "      <th>0</th>\n",
       "      <td>5.1</td>\n",
       "      <td>3.5</td>\n",
       "      <td>1.4</td>\n",
       "      <td>0.2</td>\n",
       "      <td>Iris-setosa</td>\n",
       "    </tr>\n",
       "    <tr>\n",
       "      <th>1</th>\n",
       "      <td>4.9</td>\n",
       "      <td>3.0</td>\n",
       "      <td>1.4</td>\n",
       "      <td>0.2</td>\n",
       "      <td>Iris-setosa</td>\n",
       "    </tr>\n",
       "    <tr>\n",
       "      <th>2</th>\n",
       "      <td>4.7</td>\n",
       "      <td>3.2</td>\n",
       "      <td>1.3</td>\n",
       "      <td>0.2</td>\n",
       "      <td>Iris-setosa</td>\n",
       "    </tr>\n",
       "    <tr>\n",
       "      <th>3</th>\n",
       "      <td>4.6</td>\n",
       "      <td>3.1</td>\n",
       "      <td>1.5</td>\n",
       "      <td>0.2</td>\n",
       "      <td>Iris-setosa</td>\n",
       "    </tr>\n",
       "    <tr>\n",
       "      <th>4</th>\n",
       "      <td>5.0</td>\n",
       "      <td>3.6</td>\n",
       "      <td>1.4</td>\n",
       "      <td>0.2</td>\n",
       "      <td>Iris-setosa</td>\n",
       "    </tr>\n",
       "    <tr>\n",
       "      <th>...</th>\n",
       "      <td>...</td>\n",
       "      <td>...</td>\n",
       "      <td>...</td>\n",
       "      <td>...</td>\n",
       "      <td>...</td>\n",
       "    </tr>\n",
       "    <tr>\n",
       "      <th>145</th>\n",
       "      <td>6.7</td>\n",
       "      <td>3.0</td>\n",
       "      <td>5.2</td>\n",
       "      <td>2.3</td>\n",
       "      <td>Iris-virginica</td>\n",
       "    </tr>\n",
       "    <tr>\n",
       "      <th>146</th>\n",
       "      <td>6.3</td>\n",
       "      <td>2.5</td>\n",
       "      <td>5.0</td>\n",
       "      <td>1.9</td>\n",
       "      <td>Iris-virginica</td>\n",
       "    </tr>\n",
       "    <tr>\n",
       "      <th>147</th>\n",
       "      <td>6.5</td>\n",
       "      <td>3.0</td>\n",
       "      <td>5.2</td>\n",
       "      <td>2.0</td>\n",
       "      <td>Iris-virginica</td>\n",
       "    </tr>\n",
       "    <tr>\n",
       "      <th>148</th>\n",
       "      <td>6.2</td>\n",
       "      <td>3.4</td>\n",
       "      <td>5.4</td>\n",
       "      <td>2.3</td>\n",
       "      <td>Iris-virginica</td>\n",
       "    </tr>\n",
       "    <tr>\n",
       "      <th>149</th>\n",
       "      <td>5.9</td>\n",
       "      <td>3.0</td>\n",
       "      <td>5.1</td>\n",
       "      <td>1.8</td>\n",
       "      <td>Iris-virginica</td>\n",
       "    </tr>\n",
       "  </tbody>\n",
       "</table>\n",
       "<p>150 rows × 5 columns</p>\n",
       "</div>"
      ],
      "text/plain": [
       "     Sepal Length  Sepal Width  Petal Length  Petal Width           Class\n",
       "0             5.1          3.5           1.4          0.2     Iris-setosa\n",
       "1             4.9          3.0           1.4          0.2     Iris-setosa\n",
       "2             4.7          3.2           1.3          0.2     Iris-setosa\n",
       "3             4.6          3.1           1.5          0.2     Iris-setosa\n",
       "4             5.0          3.6           1.4          0.2     Iris-setosa\n",
       "..            ...          ...           ...          ...             ...\n",
       "145           6.7          3.0           5.2          2.3  Iris-virginica\n",
       "146           6.3          2.5           5.0          1.9  Iris-virginica\n",
       "147           6.5          3.0           5.2          2.0  Iris-virginica\n",
       "148           6.2          3.4           5.4          2.3  Iris-virginica\n",
       "149           5.9          3.0           5.1          1.8  Iris-virginica\n",
       "\n",
       "[150 rows x 5 columns]"
      ]
     },
     "execution_count": 77,
     "metadata": {},
     "output_type": "execute_result"
    }
   ],
   "source": [
    "# Another way of creating DataFrame from csv file\n",
    "df_iris = pd.read_csv(\"datasets/iris.csv\", names = [\"Sepal Length\",\"Sepal Width\",\"Petal Length\",\"Petal Width\", \"Class\"])\n",
    "df_iris"
   ]
  },
  {
   "cell_type": "code",
   "execution_count": null,
   "metadata": {},
   "outputs": [],
   "source": []
  }
 ],
 "metadata": {
  "kernelspec": {
   "display_name": "Python 3",
   "language": "python",
   "name": "python3"
  },
  "language_info": {
   "codemirror_mode": {
    "name": "ipython",
    "version": 3
   },
   "file_extension": ".py",
   "mimetype": "text/x-python",
   "name": "python",
   "nbconvert_exporter": "python",
   "pygments_lexer": "ipython3",
   "version": "3.6.5"
  }
 },
 "nbformat": 4,
 "nbformat_minor": 5
}
