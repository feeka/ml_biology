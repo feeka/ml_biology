{
 "cells": [
  {
   "cell_type": "markdown",
   "metadata": {
    "nbgrader": {
     "grade": false,
     "grade_id": "cell-91fc27cf55447c2b",
     "locked": true,
     "schema_version": 3,
     "solution": false,
     "task": false
    }
   },
   "source": [
    "# Python\n",
    "\n",
    "This is a little python demo notebook. Outline for the notebook:\n",
    "\n",
    "* print statement - how do we interact with the terminal\n",
    "* data types - numerical, logical and strings\n",
    "* variables - how do we assign and operate on variables\n",
    "* control flow - conditional statements and loops\n",
    "* libraries - how do we import and reuse the libraries\n",
    "* little program examples"
   ]
  },
  {
   "cell_type": "markdown",
   "metadata": {
    "nbgrader": {
     "grade": false,
     "grade_id": "cell-6d0d9d12e177e234",
     "locked": true,
     "schema_version": 3,
     "solution": false,
     "task": false
    }
   },
   "source": [
    "## Interaction with the terminal\n",
    "Jupyter Notebook is one way of creating a medium/an environment between a person and computer - the other is terminal. We concentrate on Jupyter Notebook. In Jupyter Notebook you can switch between code(python code) and markdowns(notes for your code). \n",
    "All you have to know is how to speak the Python language."
   ]
  },
  {
   "cell_type": "code",
   "execution_count": 86,
   "metadata": {
    "nbgrader": {
     "grade": false,
     "grade_id": "cell-4db5707692f1691a",
     "locked": true,
     "schema_version": 3,
     "solution": false,
     "task": false
    }
   },
   "outputs": [
    {
     "name": "stdout",
     "output_type": "stream",
     "text": [
      "Hello\n"
     ]
    }
   ],
   "source": [
    "print(\"Hello\")"
   ]
  },
  {
   "cell_type": "markdown",
   "metadata": {
    "nbgrader": {
     "grade": false,
     "grade_id": "cell-d6c9a52a6ae8a0b8",
     "locked": true,
     "schema_version": 3,
     "solution": false,
     "task": false
    }
   },
   "source": [
    "In Jupyter Notebook we can ommit the print statement - it understands us and implicitly executes print statement on a given statement. \n",
    "\n",
    "_NOTE 1! By ommitting we also should take into consideration the fact that only the last statement executes!_"
   ]
  },
  {
   "cell_type": "code",
   "execution_count": 4,
   "metadata": {
    "nbgrader": {
     "grade": false,
     "grade_id": "cell-57642e1bb2eff36f",
     "locked": true,
     "schema_version": 3,
     "solution": false,
     "task": false
    }
   },
   "outputs": [
    {
     "data": {
      "text/plain": [
       "'Hello'"
      ]
     },
     "execution_count": 4,
     "metadata": {},
     "output_type": "execute_result"
    }
   ],
   "source": [
    "\"Hello\""
   ]
  },
  {
   "cell_type": "markdown",
   "metadata": {
    "nbgrader": {
     "grade": false,
     "grade_id": "cell-3e0fbbec9dbc5996",
     "locked": true,
     "schema_version": 3,
     "solution": false,
     "task": false
    }
   },
   "source": [
    "What did you notice above? We put 2 `\"` marks. Why? Well, data types.\n",
    "\n",
    "In Python language we have to differentiate the data types. Simplest data types are numerical, logical and strings(strings are the words in our language). Let us switch to code and demonstrate the data types. New method:\n",
    "* `type(value)` - type function takes a value and returns the name of data type\n",
    "* `primitive data types` - __Strings__, __Integers__, __Floating Points__ and __Booleans__"
   ]
  },
  {
   "cell_type": "code",
   "execution_count": 5,
   "metadata": {
    "nbgrader": {
     "grade": false,
     "grade_id": "cell-e18a4de3cb2750b8",
     "locked": true,
     "schema_version": 3,
     "solution": false,
     "task": false
    }
   },
   "outputs": [
    {
     "name": "stdout",
     "output_type": "stream",
     "text": [
      "Hello is of type  <class 'str'>\n",
      "12 is of type <class 'int'>\n",
      "12.15 is of type <class 'float'>\n",
      "True is of type <class 'bool'>\n"
     ]
    }
   ],
   "source": [
    "print(\"Hello\", \"is of type \", type(\"Hello\"))\n",
    "print(12, \"is of type\", type(12))\n",
    "print(12.15, \"is of type\", type(12.5))\n",
    "print(True, \"is of type\", type(True))"
   ]
  },
  {
   "cell_type": "markdown",
   "metadata": {
    "nbgrader": {
     "grade": false,
     "grade_id": "cell-a5038a8ce73b93f6",
     "locked": true,
     "schema_version": 3,
     "solution": false,
     "task": false
    }
   },
   "source": [
    "Q1: Why did we put print statements in front of each statement?\n",
    "Hint: Answer is in note 1."
   ]
  },
  {
   "cell_type": "markdown",
   "metadata": {
    "nbgrader": {
     "grade": false,
     "grade_id": "cell-00b9a16a26d9a5f4",
     "locked": true,
     "schema_version": 3,
     "solution": false,
     "task": false
    }
   },
   "source": [
    "## Data Types and Variables\n",
    "Let us take a look at some arithmetic operations and operations on strings. Definitions:\n",
    "* `# This is a comment in python` - the `#` sign represents a comment in python \n",
    "* `a=5` - assignment operation: assign value `5` to variable `a` (equivalent to mathematical `=`)\n",
    "\n",
    "We are checking the type of resulting value from the statements below."
   ]
  },
  {
   "cell_type": "code",
   "execution_count": 6,
   "metadata": {
    "nbgrader": {
     "grade": false,
     "grade_id": "cell-acdc2b15b47b7e2a",
     "locked": true,
     "schema_version": 3,
     "solution": false,
     "task": false
    }
   },
   "outputs": [],
   "source": [
    "#int\n",
    "a1 = 5\n",
    "a2 = 10\n",
    "\n",
    "#float\n",
    "b1 = 5.5\n",
    "b2 = 1.3\n",
    "\n",
    "#bool\n",
    "c1 = True\n",
    "c2 = False\n",
    "\n",
    "#str\n",
    "d1 = \"Hello\"\n",
    "d2 = \"World\""
   ]
  },
  {
   "cell_type": "code",
   "execution_count": 87,
   "metadata": {
    "nbgrader": {
     "grade": false,
     "grade_id": "cell-ce3212fd94bc14e4",
     "locked": true,
     "schema_version": 3,
     "solution": false,
     "task": false
    }
   },
   "outputs": [
    {
     "data": {
      "text/plain": [
       "50"
      ]
     },
     "execution_count": 87,
     "metadata": {},
     "output_type": "execute_result"
    }
   ],
   "source": [
    "#let us check the types\n",
    "a3=a1*a2 #we can peform all arithmetic operations\n",
    "a3"
   ]
  },
  {
   "cell_type": "code",
   "execution_count": 8,
   "metadata": {
    "nbgrader": {
     "grade": false,
     "grade_id": "cell-b613a2898a168349",
     "locked": true,
     "schema_version": 3,
     "solution": false,
     "task": false
    }
   },
   "outputs": [
    {
     "data": {
      "text/plain": [
       "7.15"
      ]
     },
     "execution_count": 8,
     "metadata": {},
     "output_type": "execute_result"
    }
   ],
   "source": [
    "b3=b1*b2\n",
    "b3"
   ]
  },
  {
   "cell_type": "code",
   "execution_count": 9,
   "metadata": {
    "nbgrader": {
     "grade": false,
     "grade_id": "cell-d96ebe3bb91bc202",
     "locked": true,
     "schema_version": 3,
     "solution": false,
     "task": false
    }
   },
   "outputs": [
    {
     "data": {
      "text/plain": [
       "False"
      ]
     },
     "execution_count": 9,
     "metadata": {},
     "output_type": "execute_result"
    }
   ],
   "source": [
    "c3 = c1 and c2\n",
    "c3"
   ]
  },
  {
   "cell_type": "code",
   "execution_count": 10,
   "metadata": {
    "nbgrader": {
     "grade": false,
     "grade_id": "cell-6836a65ed69896aa",
     "locked": true,
     "schema_version": 3,
     "solution": false,
     "task": false
    }
   },
   "outputs": [
    {
     "data": {
      "text/plain": [
       "'HelloWorld'"
      ]
     },
     "execution_count": 10,
     "metadata": {},
     "output_type": "execute_result"
    }
   ],
   "source": [
    "d3 = d1+d2 #chain the values\n",
    "d3"
   ]
  },
  {
   "cell_type": "markdown",
   "metadata": {
    "nbgrader": {
     "grade": false,
     "grade_id": "cell-5fbaf82a4a93451b",
     "locked": true,
     "schema_version": 3,
     "solution": false,
     "task": false
    }
   },
   "source": [
    "Q2: What are the types of the values produced above? List them.\n",
    "\n",
    "`Try it at home: What if we add `int` type to `float` type or `str` with `float`/`int`/`bool`? What is the type of resulting combination?`"
   ]
  },
  {
   "cell_type": "markdown",
   "metadata": {
    "nbgrader": {
     "grade": false,
     "grade_id": "cell-d236183cc73c9186",
     "locked": true,
     "schema_version": 3,
     "solution": false,
     "task": false
    }
   },
   "source": [
    "## Control Flow"
   ]
  },
  {
   "cell_type": "markdown",
   "metadata": {
    "nbgrader": {
     "grade": false,
     "grade_id": "cell-20973f0edf102480",
     "locked": true,
     "schema_version": 3,
     "solution": false,
     "task": false
    }
   },
   "source": [
    "* __input:__ Get data from the “outside world”. This might be reading data from a biological dataset file.\n",
    "* __output:__ Display the results of the program as a text or machine learning model.\n",
    "* __sequential execution:__ Perform statements one after another in the order they are encountered in the script as we did before.\n",
    "* __conditional execution:__ Check for certain conditions and then execute or skip a sequence of statements.\n",
    "* __repeated execution:__ Perform some set of statements repeatedly, until condition is met or 10 times (execute statement until value of steps reaches 10).\n",
    "* __reuse:__ Write a set of instructions once and give them a name and then reuse those instructions as needed throughout your program. In our course they are libraries.\n",
    "\n",
    "> _Python for Informatics, Exploring Information, Charles Severance_\n",
    "\n"
   ]
  },
  {
   "cell_type": "markdown",
   "metadata": {
    "nbgrader": {
     "grade": false,
     "grade_id": "cell-35e18e46b8934052",
     "locked": true,
     "schema_version": 3,
     "solution": false,
     "task": false
    }
   },
   "source": [
    "It is the best to look at each block of statements using some examples. Defintions:\n",
    "* `input(\"Enter a value\")` - Jupyter Notebook shows `Enter a value` and waits for the value. Value is of type string.\n",
    "* `str(1)` - converts `1` to string, can be used interchangebly between the types (e.g. `int(\"12\")`)"
   ]
  },
  {
   "cell_type": "markdown",
   "metadata": {
    "nbgrader": {
     "grade": false,
     "grade_id": "cell-b4a0d5bdbacff2c6",
     "locked": true,
     "schema_version": 3,
     "solution": false,
     "task": false
    }
   },
   "source": [
    "### Sequential execution\n",
    "__Task 1. Sequential Celsius__ \n",
    "* User inputs a value in Celsius.Program converts given value to Kelvin.\n",
    "* The result should be converted to str value."
   ]
  },
  {
   "cell_type": "markdown",
   "metadata": {
    "nbgrader": {
     "grade": false,
     "grade_id": "cell-b11a909f5d8ae502",
     "locked": true,
     "schema_version": 3,
     "solution": false,
     "task": false
    }
   },
   "source": []
  },
  {
   "cell_type": "code",
   "execution_count": 14,
   "metadata": {
    "nbgrader": {
     "grade": false,
     "grade_id": "cell-9b8e30b065bc25e8",
     "locked": true,
     "schema_version": 3,
     "solution": false,
     "task": false
    }
   },
   "outputs": [
    {
     "name": "stdout",
     "output_type": "stream",
     "text": [
      "Enter Temperature in Celsius: 25\n",
      "298.15 Kelvin\n"
     ]
    }
   ],
   "source": [
    "# takes input from the screen converts it to int and stores in celsius_input \n",
    "celsius_input = int(input(\"Enter Temperature in Celsius: \"))\n",
    "# assign kelvin to following value\n",
    "kelvin_output = celsius_input + 273.15\n",
    "# convert kelvin to String\n",
    "string_kelvin = str(kelvin_output)\n",
    "# print the string kelvin\n",
    "print(string_kelvin,\"Kelvin\")"
   ]
  },
  {
   "cell_type": "markdown",
   "metadata": {
    "nbgrader": {
     "grade": false,
     "grade_id": "cell-595d2a92d13fc379",
     "locked": true,
     "schema_version": 3,
     "solution": false,
     "task": false
    }
   },
   "source": [
    "### Conditional execution\n",
    "__Task 2. Conditional driver's license__\n",
    "* User inputs name and age of user. \n",
    "* Program greets the user and decides if the user is old enough to get license.\n",
    "* The result should also say how many years left to take test if threshold age is not met!"
   ]
  },
  {
   "cell_type": "code",
   "execution_count": 24,
   "metadata": {
    "nbgrader": {
     "grade": false,
     "grade_id": "cell-e97fedb20aee1bce",
     "locked": true,
     "schema_version": 3,
     "solution": false,
     "task": false
    }
   },
   "outputs": [
    {
     "name": "stdout",
     "output_type": "stream",
     "text": [
      "Enter your name: Fikrat\n",
      "Enter your age: 26\n",
      "Welcome Fikrat\n",
      "\n",
      "Good news Fikrat! You are qualified to take the test!\n"
     ]
    }
   ],
   "source": [
    "# Inputs\n",
    "name = input(\"Enter your name: \")\n",
    "age = int(input(\"Enter your age: \"))\n",
    "threshold = 19\n",
    "\n",
    "# Friendly greetings\n",
    "print(\"Welcome\",name+\"\\n\")\n",
    "\n",
    "# Conditional statement: age<threshold is a bool value, returns True or False\n",
    "if age<threshold:\n",
    "    # Check in how many years the user can start driving\n",
    "    years_left = threshold - age\n",
    "    print(\"Ah sorry\",name,\"try once again in\",years_left,\"years!\")\n",
    "else:\n",
    "    print(\"Good news\",name+\"! You are qualified to take the test!\")"
   ]
  },
  {
   "cell_type": "code",
   "execution_count": 1,
   "metadata": {
    "nbgrader": {
     "grade": false,
     "grade_id": "cell-9835ee4e9da5e7fd",
     "locked": true,
     "schema_version": 3,
     "solution": false,
     "task": false
    }
   },
   "outputs": [],
   "source": [
    "#TODO: Loops, lists and libraries"
   ]
  },
  {
   "cell_type": "markdown",
   "metadata": {
    "nbgrader": {
     "grade": false,
     "grade_id": "cell-d02a739ff7413112",
     "locked": true,
     "schema_version": 3,
     "solution": false,
     "task": false
    }
   },
   "source": [
    "__Task 3. Conditional % to score__\n",
    "* User inputs _name_ and _grade_ in percent. \n",
    "* Program converts the grade to german scale(1-5).\n",
    "* Output also says if user failed or passed."
   ]
  },
  {
   "cell_type": "code",
   "execution_count": 22,
   "metadata": {},
   "outputs": [
    {
     "name": "stdout",
     "output_type": "stream",
     "text": [
      "Enter your name:Johny\n",
      "Enter your grade:74\n",
      "Your grade is 2.7 satisfactory\n"
     ]
    }
   ],
   "source": [
    "# Input\n",
    "name = input(\"Enter your name:\")\n",
    "grade_percent = int(input(\"Enter your grade:\"))\n",
    "threshold = 45\n",
    "\n",
    "grade_german = 0\n",
    "message = \"\"\n",
    "\n",
    "#if condition1 else if condition2 else...\n",
    "if grade_percent<threshold:\n",
    "    grade_german = 5.0\n",
    "    message = \"Failed\"\n",
    "elif grade_percent>=45 and grade_percent<55:\n",
    "    grade_german = 3.7\n",
    "    message = \"sufficient\"\n",
    "elif grade_percent>=55 and grade_percent<65:\n",
    "    grade_german = 3.3\n",
    "    message = \"satisfactory\"\n",
    "elif grade_percent>=65 and grade_percent<70:\n",
    "    grade_german = 3.0\n",
    "    message = \"satisfactory\"\n",
    "elif grade_percent>=70 and grade_percent<75:\n",
    "    grade_german = 2.7\n",
    "    message = \"satisfactory\"\n",
    "elif grade_percent>=75 and grade_percent<80:\n",
    "    grade_german = 2.3\n",
    "    message = \"good\"\n",
    "elif grade_percent>=80 and grade_percent<85:\n",
    "    grade_german = 2.0\n",
    "    message = \"good\"\n",
    "elif grade_percent>=85 and grade_percent<90:\n",
    "    grade_german = 1.7\n",
    "    message = \"good\"\n",
    "elif grade_percent>=90 and grade_percent<95:\n",
    "    grade_german = 1.3\n",
    "    message = \"very good\"\n",
    "else:\n",
    "    grade_german = 1.0\n",
    "    message = \"very good\"\n",
    "    \n",
    "print(\"Your grade is\",grade_german,message)"
   ]
  },
  {
   "cell_type": "markdown",
   "metadata": {
    "nbgrader": {
     "grade": false,
     "grade_id": "cell-7cea0d4681f2e9f9",
     "locked": true,
     "schema_version": 3,
     "solution": false,
     "task": false
    }
   },
   "source": [
    "To conclude:\n",
    "* `if` statements - are used for conditional statements\n",
    "    * there must be a condition after if (`bool` type value)\n",
    "    * `elif` - translates into else if - normally used when more than 2 cases\n",
    "    * `and` - first condition `and` second condition both must be `True`\n",
    "    * `or` - one of two conditiond must be true or both\n",
    "    * `else` - everything else\n",
    "* conversion between the values is necessary but be careful!\n",
    "    * if user enters `str` value for age\n",
    "    * we are forcing it to convert to `int`\n",
    "    * `ValueError: invalid literal for int() with base 10: 'd'`\n",
    "    * in human language we stumble upon an error\n",
    "    \n",
    "__Try it at home: Username and password__\n",
    "* User enters username and password. Let username be your First Name and password your Last Name\n",
    "* If user enters correct values => print connected. Else could not connect.\n",
    "\n",
    "NOTE: We do not handle usernames and passwords that way in real world. Far sophisticated algorithms for encryption are used. The example is designed only for exercise purposes."
   ]
  },
  {
   "cell_type": "markdown",
   "metadata": {
    "nbgrader": {
     "grade": false,
     "grade_id": "cell-6f47bdb0236b8265",
     "locked": true,
     "schema_version": 3,
     "solution": false,
     "task": false
    }
   },
   "source": [
    "### Repeated execution and Lists\n",
    "Now suppose we want to ask user to input multiple localization sites and print them, e.g. 3? Well one way is straight forward:\n",
    "* ` \\n ` - means new line, can write anywhere(just make sure it is written exactly like indicated)"
   ]
  },
  {
   "cell_type": "code",
   "execution_count": 30,
   "metadata": {
    "nbgrader": {
     "grade": false,
     "grade_id": "cell-250ea604b77e3874",
     "locked": true,
     "schema_version": 3,
     "solution": false,
     "task": false
    }
   },
   "outputs": [
    {
     "name": "stdout",
     "output_type": "stream",
     "text": [
      "Enter site: cytoplasm\n",
      "Enter site: inner membrane\n",
      "Enter site: perisplasm\n",
      "Localization sites are: \n",
      "------------------\n",
      "cytoplasm\n",
      "inner membrane\n",
      "perisplasm\n"
     ]
    }
   ],
   "source": [
    "name1 = input(\"Enter site: \")\n",
    "name2 = input(\"Enter site: \")\n",
    "name3 = input(\"Enter site: \")\n",
    "\n",
    "print(\"\\nLocalization sites are: \"+\"\\n------------------\\n\"+name1+'\\n'+name2 + '\\n'+name3)"
   ]
  },
  {
   "cell_type": "markdown",
   "metadata": {
    "nbgrader": {
     "grade": false,
     "grade_id": "cell-00347af9ba25c162",
     "locked": true,
     "schema_version": 3,
     "solution": false,
     "task": false
    }
   },
   "source": [
    "What if we have complicated scenario where user needs to specify the quantity of sites? We have a data type called __`list`__ and a statement called __`for`__ loop."
   ]
  },
  {
   "cell_type": "markdown",
   "metadata": {
    "nbgrader": {
     "grade": false,
     "grade_id": "cell-92236110917f24d1",
     "locked": true,
     "schema_version": 3,
     "solution": false,
     "task": false
    }
   },
   "source": [
    "### Lists and Loops\n",
    "Subsequent codelines will teach us a bit about lists and for loops and after that we will jump into tasks."
   ]
  },
  {
   "cell_type": "code",
   "execution_count": 92,
   "metadata": {
    "nbgrader": {
     "grade": false,
     "grade_id": "cell-aba6f5212bb0d46d",
     "locked": true,
     "schema_version": 3,
     "solution": false,
     "task": false
    }
   },
   "outputs": [
    {
     "name": "stdout",
     "output_type": "stream",
     "text": [
      "The index of e: 1\n",
      "The index of i: 2\n"
     ]
    }
   ],
   "source": [
    "# vowels list\n",
    "vowels = ['a', 'e', 'i', 'o', 'i', 'u']\n",
    "\n",
    "# index of 'e' in vowels\n",
    "index = vowels.index('e')\n",
    "print('The index of e:', index)\n",
    "\n",
    "# element 'i' is searched\n",
    "# index of the first 'i' is returned\n",
    "index = vowels.index('i')\n",
    "\n",
    "print('The index of i:', index)"
   ]
  },
  {
   "cell_type": "code",
   "execution_count": 93,
   "metadata": {
    "nbgrader": {
     "grade": false,
     "grade_id": "cell-7b59b5d0c0d19783",
     "locked": true,
     "schema_version": 3,
     "solution": false,
     "task": false
    }
   },
   "outputs": [
    {
     "name": "stdout",
     "output_type": "stream",
     "text": [
      "a\n",
      "e\n",
      "o\n",
      "i\n",
      "u\n"
     ]
    }
   ],
   "source": [
    "# remove first occurence of i\n",
    "vowels.remove(\"i\")\n",
    "\n",
    "# Let us print the vowels one in a line\n",
    "# One way to print all the vowels is as follows\n",
    "\n",
    "# loop through list of vowels \n",
    "# print each vowel\n",
    "for vowel in vowels:\n",
    "    print(vowel)"
   ]
  },
  {
   "cell_type": "code",
   "execution_count": 94,
   "metadata": {
    "nbgrader": {
     "grade": false,
     "grade_id": "cell-2be5e0f03a7e2aa3",
     "locked": true,
     "schema_version": 3,
     "solution": false,
     "task": false
    }
   },
   "outputs": [
    {
     "name": "stdout",
     "output_type": "stream",
     "text": [
      "Updated vowels: ['a', 'e', 'o', 'i', 'u']\n",
      "Length of vowels: 5\n"
     ]
    }
   ],
   "source": [
    "print(\"Updated vowels:\",vowels)\n",
    "print(\"Length of vowels:\",len(vowels))"
   ]
  },
  {
   "cell_type": "markdown",
   "metadata": {
    "nbgrader": {
     "grade": false,
     "grade_id": "cell-7b08c6e8cbcfb1a4",
     "locked": true,
     "schema_version": 3,
     "solution": false,
     "task": false
    }
   },
   "source": [
    "List is a non-primitive data type and has methods like we used before in the code.\n",
    "\n",
    "`Try it at home: Find some other methods for lists and try to use them, e.g. vowels.count(\"e\").` Here is a useful [link](https://www.programiz.com/python-programming/methods/list/index)."
   ]
  },
  {
   "cell_type": "markdown",
   "metadata": {
    "nbgrader": {
     "grade": false,
     "grade_id": "cell-d26421ba42943f38",
     "locked": true,
     "schema_version": 3,
     "solution": false,
     "task": false
    }
   },
   "source": [
    "__Task 4. More than 3 Localization Sites.__\n",
    "* User inputs _quantity_ of sites and names of sites one by one.\n",
    "* Program prints them in a special format.\n",
    "\n",
    "`Localization Sites:\n",
    "    site1\n",
    "    site2\n",
    "    site3\n",
    "`"
   ]
  },
  {
   "cell_type": "code",
   "execution_count": 51,
   "metadata": {
    "nbgrader": {
     "grade": false,
     "grade_id": "cell-3370c5e991129913",
     "locked": true,
     "schema_version": 3,
     "solution": false,
     "task": false
    }
   },
   "outputs": [
    {
     "name": "stdout",
     "output_type": "stream",
     "text": [
      "Enter number of sites: 3\n",
      "Enter site: cp\n",
      "Enter site: mb\n",
      "Enter site: imL\n",
      "\n",
      "Localization Sites:\n",
      "--------------------\n",
      "    cp\n",
      "    mb\n",
      "    imL\n"
     ]
    }
   ],
   "source": [
    "number_of_sites = int(input(\"Enter number of sites: \"))\n",
    "\n",
    "# create empty list\n",
    "sites = []\n",
    "\n",
    "# loop from 0 to number_of_sites\n",
    "for i in range(0,number_of_sites):\n",
    "    site = input(\"Enter site: \")\n",
    "    sites.append(site)\n",
    "\n",
    "print(\"\\nLocalization Sites:\")\n",
    "\n",
    "print(\"--------------------\")\n",
    "\n",
    "# loop over sites\n",
    "for site in sites:\n",
    "    print(\"    \"+site)"
   ]
  },
  {
   "cell_type": "markdown",
   "metadata": {
    "nbgrader": {
     "grade": false,
     "grade_id": "cell-f3744df8b6274443",
     "locked": true,
     "schema_version": 3,
     "solution": false,
     "task": false
    }
   },
   "source": [
    "Definition and intuition:\n",
    "* `for i in range(0,10):`\n",
    "    * assign `i` to 0\n",
    "    * increment by 1 (`i=i+1`)\n",
    "    * until `i` reaches 10 (`i<10`)\n",
    "    * do something after `:`\n",
    "* `for site in sites:`\n",
    "    * take values from `sites` one-by-one\n",
    "    * assign them to `site`\n"
   ]
  },
  {
   "cell_type": "markdown",
   "metadata": {
    "nbgrader": {
     "grade": false,
     "grade_id": "cell-9415363b9c6000cf",
     "locked": true,
     "schema_version": 3,
     "solution": false,
     "task": false
    }
   },
   "source": [
    "### Reuse - ML libraries introduction\n",
    "\n",
    "In machine learning the data is oftentimes given as a csv, txt or other type of file. Experts oftentimes tackle these problems by creating the libraries, that contain modules and we - programmers are using/importing those libraries. So how do we reuse the modules?\n",
    "\n",
    "First we install the module using pip/pip3 system - python's library installer. Afterwards, we simply import those libraries. Let us look at the examples."
   ]
  },
  {
   "cell_type": "code",
   "execution_count": 72,
   "metadata": {
    "nbgrader": {
     "grade": false,
     "grade_id": "cell-446c8c28b39e32ac",
     "locked": true,
     "schema_version": 3,
     "solution": false,
     "task": false
    }
   },
   "outputs": [],
   "source": [
    "import numpy as np\n",
    "from pandas import DataFrame\n",
    "import pandas as pd"
   ]
  },
  {
   "cell_type": "markdown",
   "metadata": {
    "nbgrader": {
     "grade": false,
     "grade_id": "cell-039445d30ecd7419",
     "locked": true,
     "schema_version": 3,
     "solution": false,
     "task": false
    }
   },
   "source": [
    "Definitions(revisited):\n",
    "* methods/functions - by invoking them(calling) you are expecting certain behavior\n",
    "    * `print(argument)` - function _print_ takes _argument_ of type _str_(or implicitly converts any other type to str)\n",
    "* `DataFrame()` - non-primitive data type(provided by `pandas`), if the data type is provided by another library we must import it\n",
    "    * the process of `df = DataFrame(arguments)` is called initialization\n",
    "    * according to [documentation](https://pandas.pydata.org/docs/reference/api/pandas.DataFrame.html) DataFrame takes 5 arguments during initialization\n",
    "\n",
    "* __But as biologists we need to remember 2 arguments! `data` and `columns` - for assigning the names of columns!__\n",
    "    * E.g. `df = DataFrame(data=[\"cp\",\"mb\",\"imL\"],columns=[\"Sites\"])` \n",
    "    * assign df to value of type  DataFrame\n",
    "    * with arguments data and columns where\n",
    "        * `data` is of type `list`\n",
    "        * `columns` is of type `list`\n",
    "* __Even more important method is going to be `read_csv(filename, column_names)`__"
   ]
  },
  {
   "cell_type": "code",
   "execution_count": 84,
   "metadata": {
    "nbgrader": {
     "grade": false,
     "grade_id": "cell-37ee47e062e13320",
     "locked": true,
     "schema_version": 3,
     "solution": false,
     "task": false
    }
   },
   "outputs": [
    {
     "data": {
      "text/html": [
       "<div>\n",
       "<style scoped>\n",
       "    .dataframe tbody tr th:only-of-type {\n",
       "        vertical-align: middle;\n",
       "    }\n",
       "\n",
       "    .dataframe tbody tr th {\n",
       "        vertical-align: top;\n",
       "    }\n",
       "\n",
       "    .dataframe thead th {\n",
       "        text-align: right;\n",
       "    }\n",
       "</style>\n",
       "<table border=\"1\" class=\"dataframe\">\n",
       "  <thead>\n",
       "    <tr style=\"text-align: right;\">\n",
       "      <th></th>\n",
       "      <th>Sites</th>\n",
       "    </tr>\n",
       "  </thead>\n",
       "  <tbody>\n",
       "    <tr>\n",
       "      <th>0</th>\n",
       "      <td>cp</td>\n",
       "    </tr>\n",
       "    <tr>\n",
       "      <th>1</th>\n",
       "      <td>mb</td>\n",
       "    </tr>\n",
       "    <tr>\n",
       "      <th>2</th>\n",
       "      <td>imL</td>\n",
       "    </tr>\n",
       "  </tbody>\n",
       "</table>\n",
       "</div>"
      ],
      "text/plain": [
       "  Sites\n",
       "0    cp\n",
       "1    mb\n",
       "2   imL"
      ]
     },
     "execution_count": 84,
     "metadata": {},
     "output_type": "execute_result"
    }
   ],
   "source": [
    "# create a DataFrame\n",
    "df = DataFrame(data=sites, columns=[\"Sites\"])\n",
    "df"
   ]
  },
  {
   "cell_type": "code",
   "execution_count": 69,
   "metadata": {
    "nbgrader": {
     "grade": false,
     "grade_id": "cell-68b6d2402d1d2423",
     "locked": true,
     "schema_version": 3,
     "solution": false,
     "task": false
    }
   },
   "outputs": [
    {
     "data": {
      "text/html": [
       "<div>\n",
       "<style scoped>\n",
       "    .dataframe tbody tr th:only-of-type {\n",
       "        vertical-align: middle;\n",
       "    }\n",
       "\n",
       "    .dataframe tbody tr th {\n",
       "        vertical-align: top;\n",
       "    }\n",
       "\n",
       "    .dataframe thead th {\n",
       "        text-align: right;\n",
       "    }\n",
       "</style>\n",
       "<table border=\"1\" class=\"dataframe\">\n",
       "  <thead>\n",
       "    <tr style=\"text-align: right;\">\n",
       "      <th></th>\n",
       "      <th>Name</th>\n",
       "      <th>Age</th>\n",
       "      <th>Enrolled as</th>\n",
       "    </tr>\n",
       "  </thead>\n",
       "  <tbody>\n",
       "    <tr>\n",
       "      <th>0</th>\n",
       "      <td>Johny</td>\n",
       "      <td>23</td>\n",
       "      <td>Master Student</td>\n",
       "    </tr>\n",
       "    <tr>\n",
       "      <th>1</th>\n",
       "      <td>Michael</td>\n",
       "      <td>24</td>\n",
       "      <td>Master Student</td>\n",
       "    </tr>\n",
       "    <tr>\n",
       "      <th>2</th>\n",
       "      <td>Fikrat</td>\n",
       "      <td>26</td>\n",
       "      <td>Phd Student</td>\n",
       "    </tr>\n",
       "  </tbody>\n",
       "</table>\n",
       "</div>"
      ],
      "text/plain": [
       "      Name  Age     Enrolled as\n",
       "0    Johny   23  Master Student\n",
       "1  Michael   24  Master Student\n",
       "2   Fikrat   26     Phd Student"
      ]
     },
     "execution_count": 69,
     "metadata": {},
     "output_type": "execute_result"
    }
   ],
   "source": [
    "# 2D list\n",
    "users = [[\"Johny\",23,\"Master Student\"],\n",
    "         [\"Michael\",24,\"Master Student\"],\n",
    "         [\"Fikrat\",26,\"Phd Student\"]]\n",
    "#column names for dataframe\n",
    "cols = [\"Name\",\"Age\",\"Enrolled as\"]\n",
    "# create dataframe from users\n",
    "df = DataFrame(data = users, columns=cols)\n",
    "df"
   ]
  },
  {
   "cell_type": "code",
   "execution_count": 70,
   "metadata": {
    "nbgrader": {
     "grade": false,
     "grade_id": "cell-2f4322aee4c94b07",
     "locked": true,
     "schema_version": 3,
     "solution": false,
     "task": false
    }
   },
   "outputs": [
    {
     "data": {
      "text/plain": [
       "pandas.core.frame.DataFrame"
      ]
     },
     "execution_count": 70,
     "metadata": {},
     "output_type": "execute_result"
    }
   ],
   "source": [
    "type(df)"
   ]
  },
  {
   "cell_type": "code",
   "execution_count": 78,
   "metadata": {
    "nbgrader": {
     "grade": false,
     "grade_id": "cell-d890a84c48c65607",
     "locked": true,
     "schema_version": 3,
     "solution": false,
     "task": false
    }
   },
   "outputs": [
    {
     "data": {
      "text/html": [
       "<div>\n",
       "<style scoped>\n",
       "    .dataframe tbody tr th:only-of-type {\n",
       "        vertical-align: middle;\n",
       "    }\n",
       "\n",
       "    .dataframe tbody tr th {\n",
       "        vertical-align: top;\n",
       "    }\n",
       "\n",
       "    .dataframe thead th {\n",
       "        text-align: right;\n",
       "    }\n",
       "</style>\n",
       "<table border=\"1\" class=\"dataframe\">\n",
       "  <thead>\n",
       "    <tr style=\"text-align: right;\">\n",
       "      <th></th>\n",
       "      <th>Sepal Length</th>\n",
       "      <th>Sepal Width</th>\n",
       "      <th>Petal Length</th>\n",
       "      <th>Petal Width</th>\n",
       "      <th>Class</th>\n",
       "    </tr>\n",
       "  </thead>\n",
       "  <tbody>\n",
       "    <tr>\n",
       "      <th>0</th>\n",
       "      <td>5.1</td>\n",
       "      <td>3.5</td>\n",
       "      <td>1.4</td>\n",
       "      <td>0.2</td>\n",
       "      <td>Iris-setosa</td>\n",
       "    </tr>\n",
       "    <tr>\n",
       "      <th>1</th>\n",
       "      <td>4.9</td>\n",
       "      <td>3.0</td>\n",
       "      <td>1.4</td>\n",
       "      <td>0.2</td>\n",
       "      <td>Iris-setosa</td>\n",
       "    </tr>\n",
       "    <tr>\n",
       "      <th>2</th>\n",
       "      <td>4.7</td>\n",
       "      <td>3.2</td>\n",
       "      <td>1.3</td>\n",
       "      <td>0.2</td>\n",
       "      <td>Iris-setosa</td>\n",
       "    </tr>\n",
       "    <tr>\n",
       "      <th>3</th>\n",
       "      <td>4.6</td>\n",
       "      <td>3.1</td>\n",
       "      <td>1.5</td>\n",
       "      <td>0.2</td>\n",
       "      <td>Iris-setosa</td>\n",
       "    </tr>\n",
       "    <tr>\n",
       "      <th>4</th>\n",
       "      <td>5.0</td>\n",
       "      <td>3.6</td>\n",
       "      <td>1.4</td>\n",
       "      <td>0.2</td>\n",
       "      <td>Iris-setosa</td>\n",
       "    </tr>\n",
       "    <tr>\n",
       "      <th>...</th>\n",
       "      <td>...</td>\n",
       "      <td>...</td>\n",
       "      <td>...</td>\n",
       "      <td>...</td>\n",
       "      <td>...</td>\n",
       "    </tr>\n",
       "    <tr>\n",
       "      <th>145</th>\n",
       "      <td>6.7</td>\n",
       "      <td>3.0</td>\n",
       "      <td>5.2</td>\n",
       "      <td>2.3</td>\n",
       "      <td>Iris-virginica</td>\n",
       "    </tr>\n",
       "    <tr>\n",
       "      <th>146</th>\n",
       "      <td>6.3</td>\n",
       "      <td>2.5</td>\n",
       "      <td>5.0</td>\n",
       "      <td>1.9</td>\n",
       "      <td>Iris-virginica</td>\n",
       "    </tr>\n",
       "    <tr>\n",
       "      <th>147</th>\n",
       "      <td>6.5</td>\n",
       "      <td>3.0</td>\n",
       "      <td>5.2</td>\n",
       "      <td>2.0</td>\n",
       "      <td>Iris-virginica</td>\n",
       "    </tr>\n",
       "    <tr>\n",
       "      <th>148</th>\n",
       "      <td>6.2</td>\n",
       "      <td>3.4</td>\n",
       "      <td>5.4</td>\n",
       "      <td>2.3</td>\n",
       "      <td>Iris-virginica</td>\n",
       "    </tr>\n",
       "    <tr>\n",
       "      <th>149</th>\n",
       "      <td>5.9</td>\n",
       "      <td>3.0</td>\n",
       "      <td>5.1</td>\n",
       "      <td>1.8</td>\n",
       "      <td>Iris-virginica</td>\n",
       "    </tr>\n",
       "  </tbody>\n",
       "</table>\n",
       "<p>150 rows × 5 columns</p>\n",
       "</div>"
      ],
      "text/plain": [
       "     Sepal Length  Sepal Width  Petal Length  Petal Width           Class\n",
       "0             5.1          3.5           1.4          0.2     Iris-setosa\n",
       "1             4.9          3.0           1.4          0.2     Iris-setosa\n",
       "2             4.7          3.2           1.3          0.2     Iris-setosa\n",
       "3             4.6          3.1           1.5          0.2     Iris-setosa\n",
       "4             5.0          3.6           1.4          0.2     Iris-setosa\n",
       "..            ...          ...           ...          ...             ...\n",
       "145           6.7          3.0           5.2          2.3  Iris-virginica\n",
       "146           6.3          2.5           5.0          1.9  Iris-virginica\n",
       "147           6.5          3.0           5.2          2.0  Iris-virginica\n",
       "148           6.2          3.4           5.4          2.3  Iris-virginica\n",
       "149           5.9          3.0           5.1          1.8  Iris-virginica\n",
       "\n",
       "[150 rows x 5 columns]"
      ]
     },
     "execution_count": 78,
     "metadata": {},
     "output_type": "execute_result"
    }
   ],
   "source": [
    "# Another way of creating DataFrame from csv file\n",
    "df_iris = pd.read_csv(\"datasets/iris.csv\", names = [\"Sepal Length\",\"Sepal Width\",\"Petal Length\",\"Petal Width\", \"Class\"])\n",
    "df_iris"
   ]
  },
  {
   "cell_type": "markdown",
   "metadata": {
    "nbgrader": {
     "grade": false,
     "grade_id": "cell-31865efb5f16961d",
     "locked": true,
     "schema_version": 3,
     "solution": false,
     "task": false
    }
   },
   "source": [
    "You can also load specific function from a given library. E.g.:"
   ]
  },
  {
   "cell_type": "code",
   "execution_count": 79,
   "metadata": {
    "nbgrader": {
     "grade": false,
     "grade_id": "cell-882bea7a8164be60",
     "locked": true,
     "schema_version": 3,
     "solution": false,
     "task": false
    }
   },
   "outputs": [],
   "source": [
    "from pandas import read_csv"
   ]
  },
  {
   "cell_type": "code",
   "execution_count": 83,
   "metadata": {
    "nbgrader": {
     "grade": false,
     "grade_id": "cell-016b01667312a8d0",
     "locked": true,
     "schema_version": 3,
     "solution": false,
     "task": false
    }
   },
   "outputs": [
    {
     "data": {
      "text/html": [
       "<div>\n",
       "<style scoped>\n",
       "    .dataframe tbody tr th:only-of-type {\n",
       "        vertical-align: middle;\n",
       "    }\n",
       "\n",
       "    .dataframe tbody tr th {\n",
       "        vertical-align: top;\n",
       "    }\n",
       "\n",
       "    .dataframe thead th {\n",
       "        text-align: right;\n",
       "    }\n",
       "</style>\n",
       "<table border=\"1\" class=\"dataframe\">\n",
       "  <thead>\n",
       "    <tr style=\"text-align: right;\">\n",
       "      <th></th>\n",
       "      <th>Sepal Length</th>\n",
       "      <th>Sepal Width</th>\n",
       "      <th>Petal Length</th>\n",
       "      <th>Petal Width</th>\n",
       "      <th>Class</th>\n",
       "    </tr>\n",
       "  </thead>\n",
       "  <tbody>\n",
       "    <tr>\n",
       "      <th>0</th>\n",
       "      <td>5.1</td>\n",
       "      <td>3.5</td>\n",
       "      <td>1.4</td>\n",
       "      <td>0.2</td>\n",
       "      <td>Iris-setosa</td>\n",
       "    </tr>\n",
       "    <tr>\n",
       "      <th>1</th>\n",
       "      <td>4.9</td>\n",
       "      <td>3.0</td>\n",
       "      <td>1.4</td>\n",
       "      <td>0.2</td>\n",
       "      <td>Iris-setosa</td>\n",
       "    </tr>\n",
       "    <tr>\n",
       "      <th>2</th>\n",
       "      <td>4.7</td>\n",
       "      <td>3.2</td>\n",
       "      <td>1.3</td>\n",
       "      <td>0.2</td>\n",
       "      <td>Iris-setosa</td>\n",
       "    </tr>\n",
       "    <tr>\n",
       "      <th>3</th>\n",
       "      <td>4.6</td>\n",
       "      <td>3.1</td>\n",
       "      <td>1.5</td>\n",
       "      <td>0.2</td>\n",
       "      <td>Iris-setosa</td>\n",
       "    </tr>\n",
       "    <tr>\n",
       "      <th>4</th>\n",
       "      <td>5.0</td>\n",
       "      <td>3.6</td>\n",
       "      <td>1.4</td>\n",
       "      <td>0.2</td>\n",
       "      <td>Iris-setosa</td>\n",
       "    </tr>\n",
       "    <tr>\n",
       "      <th>...</th>\n",
       "      <td>...</td>\n",
       "      <td>...</td>\n",
       "      <td>...</td>\n",
       "      <td>...</td>\n",
       "      <td>...</td>\n",
       "    </tr>\n",
       "    <tr>\n",
       "      <th>145</th>\n",
       "      <td>6.7</td>\n",
       "      <td>3.0</td>\n",
       "      <td>5.2</td>\n",
       "      <td>2.3</td>\n",
       "      <td>Iris-virginica</td>\n",
       "    </tr>\n",
       "    <tr>\n",
       "      <th>146</th>\n",
       "      <td>6.3</td>\n",
       "      <td>2.5</td>\n",
       "      <td>5.0</td>\n",
       "      <td>1.9</td>\n",
       "      <td>Iris-virginica</td>\n",
       "    </tr>\n",
       "    <tr>\n",
       "      <th>147</th>\n",
       "      <td>6.5</td>\n",
       "      <td>3.0</td>\n",
       "      <td>5.2</td>\n",
       "      <td>2.0</td>\n",
       "      <td>Iris-virginica</td>\n",
       "    </tr>\n",
       "    <tr>\n",
       "      <th>148</th>\n",
       "      <td>6.2</td>\n",
       "      <td>3.4</td>\n",
       "      <td>5.4</td>\n",
       "      <td>2.3</td>\n",
       "      <td>Iris-virginica</td>\n",
       "    </tr>\n",
       "    <tr>\n",
       "      <th>149</th>\n",
       "      <td>5.9</td>\n",
       "      <td>3.0</td>\n",
       "      <td>5.1</td>\n",
       "      <td>1.8</td>\n",
       "      <td>Iris-virginica</td>\n",
       "    </tr>\n",
       "  </tbody>\n",
       "</table>\n",
       "<p>150 rows × 5 columns</p>\n",
       "</div>"
      ],
      "text/plain": [
       "     Sepal Length  Sepal Width  Petal Length  Petal Width           Class\n",
       "0             5.1          3.5           1.4          0.2     Iris-setosa\n",
       "1             4.9          3.0           1.4          0.2     Iris-setosa\n",
       "2             4.7          3.2           1.3          0.2     Iris-setosa\n",
       "3             4.6          3.1           1.5          0.2     Iris-setosa\n",
       "4             5.0          3.6           1.4          0.2     Iris-setosa\n",
       "..            ...          ...           ...          ...             ...\n",
       "145           6.7          3.0           5.2          2.3  Iris-virginica\n",
       "146           6.3          2.5           5.0          1.9  Iris-virginica\n",
       "147           6.5          3.0           5.2          2.0  Iris-virginica\n",
       "148           6.2          3.4           5.4          2.3  Iris-virginica\n",
       "149           5.9          3.0           5.1          1.8  Iris-virginica\n",
       "\n",
       "[150 rows x 5 columns]"
      ]
     },
     "execution_count": 83,
     "metadata": {},
     "output_type": "execute_result"
    }
   ],
   "source": [
    "# create variable filename\n",
    "filename = \"datasets/iris.csv\"\n",
    "df_iris = read_csv(filename,names = [\"Sepal Length\",\"Sepal Width\",\"Petal Length\",\"Petal Width\", \"Class\"])\n",
    "df_iris"
   ]
  },
  {
   "cell_type": "code",
   "execution_count": 85,
   "metadata": {
    "nbgrader": {
     "grade": false,
     "grade_id": "cell-33fc4a77982a4117",
     "locked": true,
     "schema_version": 3,
     "solution": false,
     "task": false
    }
   },
   "outputs": [],
   "source": [
    "# iris dataframe is continued in the next ipynb notebook"
   ]
  },
  {
   "cell_type": "markdown",
   "metadata": {
    "nbgrader": {
     "grade": false,
     "grade_id": "cell-7491cd091ba3d3b4",
     "locked": true,
     "schema_version": 3,
     "solution": false,
     "task": false
    }
   },
   "source": [
    "### Tasks to try at home - Optional:\n",
    "* __Task 5. Animals listed in a dataframe:__\n",
    "    * User inputs the quantity of animals and based on that enter animal species one by one.\n",
    "    * Program then saves the entered values in the list and converts it into dataframe.\n",
    "    * Output should like the dataframe above.\n",
    "\n",
    "* __Task 6*. Challenging task - 2D user dataframe.__\n",
    "    * User inputs quantity of users and based on the quantity enter Names, Age and Matrikelnummer.\n",
    "    * Program then saves the entered values into the list and converts it into dataframe.\n",
    "    * Output should look like 2D list section of DataFrame introduction.\n"
   ]
  }
 ],
 "metadata": {
  "celltoolbar": "Create Assignment",
  "kernelspec": {
   "display_name": "Python 3",
   "language": "python",
   "name": "python3"
  },
  "language_info": {
   "codemirror_mode": {
    "name": "ipython",
    "version": 3
   },
   "file_extension": ".py",
   "mimetype": "text/x-python",
   "name": "python",
   "nbconvert_exporter": "python",
   "pygments_lexer": "ipython3",
   "version": "3.6.5"
  }
 },
 "nbformat": 4,
 "nbformat_minor": 5
}
